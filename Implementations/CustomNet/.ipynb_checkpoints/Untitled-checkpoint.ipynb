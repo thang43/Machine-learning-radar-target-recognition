{
 "cells": [
  {
   "cell_type": "code",
   "execution_count": 8,
   "id": "18897f7d",
   "metadata": {},
   "outputs": [
    {
     "name": "stdout",
     "output_type": "stream",
     "text": [
      "tensor([[-0.0865, -0.0487, -0.2684,  0.9965],\n",
      "        [-0.4387, -1.0284, -0.7069, -0.2122],\n",
      "        [ 0.2695, -0.6320, -0.4787,  0.1688]])\n",
      "tensor([ 0.2695, -0.6320, -0.4787,  0.1688])\n"
     ]
    }
   ],
   "source": [
    "import torch\n",
    "x = torch.randn(3, 4)\n",
    "print(x)\n",
    "print(x[1:3])"
   ]
  }
 ],
 "metadata": {
  "kernelspec": {
   "display_name": "Python 3 (ipykernel)",
   "language": "python",
   "name": "python3"
  },
  "language_info": {
   "codemirror_mode": {
    "name": "ipython",
    "version": 3
   },
   "file_extension": ".py",
   "mimetype": "text/x-python",
   "name": "python",
   "nbconvert_exporter": "python",
   "pygments_lexer": "ipython3",
   "version": "3.11.2"
  }
 },
 "nbformat": 4,
 "nbformat_minor": 5
}
