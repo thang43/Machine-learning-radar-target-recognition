{
 "cells": [
  {
   "cell_type": "code",
   "execution_count": null,
   "id": "4c1734bf",
   "metadata": {},
   "outputs": [],
   "source": [
    "import torch\n",
    "import torch.nn as nn\n",
    "\n",
    "class LeNet5WithInception(nn.Module):\n",
    "    def __init__(self):\n",
    "        super(LeNet5WithInception, self).__init__()\n",
    "\n",
    "        # Define LeNet-5 layers\n",
    "        self.conv1 = nn.Conv2d(3, 6, kernel_size=5)\n",
    "        self.avgpool1 = nn.AvgPool2d(kernel_size=2)\n",
    "        self.conv2 = nn.Conv2d(6, 16, kernel_size=5)\n",
    "        self.avgpool2 = nn.AvgPool2d(kernel_size=2)\n",
    "        self.fc1 = nn.Linear(16 * 5 * 5, 120)\n",
    "\n",
    "        # Define Inception module\n",
    "        self.inception = nn.Sequential(\n",
    "            nn.Conv2d(16, 32, kernel_size=1),\n",
    "            nn.Conv2d(16, 24, kernel_size=1),\n",
    "            nn.Conv2d(24, 32, kernel_size=3, padding=1),\n",
    "            nn.Conv2d(16, 32, kernel_size=1),\n",
    "            nn.Conv2d(32, 32, kernel_size=5, padding=2),\n",
    "            nn.MaxPool2d(kernel_size=3, stride=1, padding=1)\n",
    "        )\n",
    "\n",
    "        # Define remaining LeNet-5 layers\n",
    "        self.fc2 = nn.Linear(32 * 5 * 5, 84)\n",
    "        self.fc3 = nn.Linear(84, 10)\n",
    "        \n",
    "    def forward(self, x):\n",
    "        x = self.conv1(x)\n",
    "        x = torch.relu(x)\n",
    "        x = self.avgpool1(x)\n",
    "        x = self.conv2(x)\n",
    "        x = torch.relu(x)\n",
    "        x = self.avgpool2(x)\n",
    "        x = torch.flatten(x, 1)\n",
    "        x = self.fc1(x)\n",
    "\n",
    "        # Apply Inception module\n",
    "        inception_output = self.inception(x)\n",
    "\n",
    "        x = torch.relu(inception_output)\n",
    "        x = torch.flatten(x, 1)\n",
    "        x = self.fc2(x)\n",
    "        x = torch.relu(x)\n",
    "        x = self.fc3(x)\n",
    "        return x\n"
   ]
  }
 ],
 "metadata": {
  "kernelspec": {
   "display_name": "Python 3 (ipykernel)",
   "language": "python",
   "name": "python3"
  },
  "language_info": {
   "codemirror_mode": {
    "name": "ipython",
    "version": 3
   },
   "file_extension": ".py",
   "mimetype": "text/x-python",
   "name": "python",
   "nbconvert_exporter": "python",
   "pygments_lexer": "ipython3",
   "version": "3.11.2"
  }
 },
 "nbformat": 4,
 "nbformat_minor": 5
}
